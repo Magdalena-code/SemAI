{
  "nbformat": 4,
  "nbformat_minor": 0,
  "metadata": {
    "colab": {
      "provenance": []
    },
    "kernelspec": {
      "name": "python3",
      "display_name": "Python 3"
    },
    "language_info": {
      "name": "python"
    }
  },
  "cells": [
    {
      "cell_type": "markdown",
      "source": [
        "# **Semantic AI Übung 9 - Exercise 2**\n",
        "\n",
        "**Magdalena König 01455794**"
      ],
      "metadata": {
        "id": "2G5_9hI8Oegc"
      }
    },
    {
      "cell_type": "markdown",
      "source": [
        "**Implementation in Python using `pgmpy`**\n"
      ],
      "metadata": {
        "id": "1tVLWr-_Tn4I"
      }
    },
    {
      "cell_type": "code",
      "execution_count": null,
      "metadata": {
        "id": "PJ_P6rynObjV"
      },
      "outputs": [],
      "source": [
        "!pip install -q pgmpy networkx matplotlib plotly daft"
      ]
    },
    {
      "cell_type": "markdown",
      "source": [
        "**Import the required libraries**"
      ],
      "metadata": {
        "id": "k12GLfW8O1Iz"
      }
    },
    {
      "cell_type": "code",
      "source": [
        "import numpy as np\n",
        "from pgmpy.models import BayesianNetwork\n",
        "from pgmpy.factors.discrete import TabularCPD\n",
        "import networkx as nx\n",
        "import matplotlib.pyplot as plt\n"
      ],
      "metadata": {
        "id": "BP8gltvIO7mU"
      },
      "execution_count": null,
      "outputs": []
    },
    {
      "cell_type": "markdown",
      "source": [
        "**a.) Create the Bayesian network for Johanna and Peter**"
      ],
      "metadata": {
        "id": "WZ9fWpP8O7OD"
      }
    },
    {
      "cell_type": "code",
      "source": [
        "# create the DAG\n",
        "model = BayesianNetwork([\n",
        "    ('PetersAlarmFails', 'PeterLate'), \n",
        "    ('TrainStrike', 'PeterLate'), \n",
        "    ('TrainStrike', 'JohannaLate')])\n",
        "\n",
        "statenames = {\n",
        "'TrainStrike': ['True', 'False'],\n",
        "'PeterLate': ['True', 'False'],\n",
        "'JohannaLate': ['True', 'False'],\n",
        "'PetersAlarmFails': ['True', 'False']}\n",
        "\n",
        "model.to_daft().render()\n",
        "\n",
        "# for each variable add a tabular conditional probability distribution \n",
        "model.add_cpds(\n",
        "  TabularCPD(\n",
        "      variable='TrainStrike', \n",
        "      variable_card=2,\n",
        "      state_names=statenames,\n",
        "      values=[[0.05], [0.95]]),\n",
        "  TabularCPD(\n",
        "      variable='PetersAlarmFails', \n",
        "      variable_card=2,\n",
        "      state_names=statenames,\n",
        "      values=[[0.1], [0.9]]),\n",
        "  TabularCPD(\n",
        "      variable='PeterLate', \n",
        "      variable_card=2,\n",
        "      state_names=statenames,\n",
        "      evidence=['TrainStrike', 'PetersAlarmFails'], \n",
        "      evidence_card=[2,2],\n",
        "      values = [[0.7, 0.3, 0.4, 0.01],\n",
        "                [0.3, 0.7, 0.6, 0.99]]),\n",
        "  \n",
        "  TabularCPD(\n",
        "      variable='JohannaLate', \n",
        "      variable_card=2,\n",
        "      evidence=['TrainStrike'], \n",
        "      evidence_card=[2],\n",
        "      state_names=statenames,\n",
        "      values = [[0.5, 0.02],\n",
        "                [0.5, 0.98]])\n",
        ")\n",
        "\n",
        "# print the conditional probability distributions\n",
        "for cpd in model.get_cpds():\n",
        "  print(cpd)"
      ],
      "metadata": {
        "id": "es4GIIY_J5Mo"
      },
      "execution_count": null,
      "outputs": []
    },
    {
      "cell_type": "markdown",
      "source": [
        "**b.) Probability of Johanna/Peter being late**"
      ],
      "metadata": {
        "id": "GEnRCz6L7u9W"
      }
    },
    {
      "cell_type": "code",
      "source": [
        "from pgmpy.inference import VariableElimination\n",
        "inference = VariableElimination(model)\n",
        "result_peter = inference.query(variables=['PeterLate'])\n",
        "result_johanna = inference.query(variables=['JohannaLate'])\n",
        "print(\"Peter late:\")\n",
        "print(result_peter)\n",
        "print(\"Johanna late:\")\n",
        "print(result_johanna)"
      ],
      "metadata": {
        "id": "szehN6hM8E_f"
      },
      "execution_count": null,
      "outputs": []
    },
    {
      "cell_type": "markdown",
      "source": [
        "**c.) Johanna is late when Peter's alarm fails**"
      ],
      "metadata": {
        "id": "IRO3q4fe1HZR"
      }
    },
    {
      "cell_type": "code",
      "source": [
        "evidence = {'PetersAlarmFails':'True'}\n",
        "result_johanna = inference.query(variables=['JohannaLate'], evidence=evidence)\n",
        "print(\"Johanna is late when Peter's alarm fails:\",evidence)\n",
        "print(result_johanna)"
      ],
      "metadata": {
        "id": "X4-E6pHwofZP"
      },
      "execution_count": null,
      "outputs": []
    },
    {
      "cell_type": "markdown",
      "source": [
        "**d.) Johanna being late when Peter is** "
      ],
      "metadata": {
        "id": "OXQwolMADkO5"
      }
    },
    {
      "cell_type": "code",
      "source": [
        "evidence = {'PeterLate':'True'}\n",
        "result_johanna = inference.query(variables=['JohannaLate'], evidence=evidence)\n",
        "print(\"Johanna is late when Peter is:\",evidence)\n",
        "print(result_johanna)"
      ],
      "metadata": {
        "id": "GeV3BKSaDs2t"
      },
      "execution_count": null,
      "outputs": []
    },
    {
      "cell_type": "markdown",
      "source": [
        "**e.) Johanna being late when Peter is even if his alarm works**"
      ],
      "metadata": {
        "id": "xjwNYNszD6dZ"
      }
    },
    {
      "cell_type": "code",
      "source": [
        "evidence = {'PeterLate':'True', 'PetersAlarmFails':'False'}\n",
        "result_johanna = inference.query(variables=['JohannaLate'], evidence=evidence)\n",
        "print(\"Johanna is late when Peter is despite his alarm working:\",evidence)\n",
        "print(result_johanna)"
      ],
      "metadata": {
        "id": "BKzmKHqfDNdQ"
      },
      "execution_count": null,
      "outputs": []
    }
  ]
}