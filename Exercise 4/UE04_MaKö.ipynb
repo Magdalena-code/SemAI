{
  "nbformat": 4,
  "nbformat_minor": 0,
  "metadata": {
    "colab": {
      "provenance": []
    },
    "kernelspec": {
      "name": "python3",
      "display_name": "Python 3"
    },
    "language_info": {
      "name": "python"
    }
  },
  "cells": [
    {
      "cell_type": "markdown",
      "source": [
        "Course Instructor: Bernd Neumayr, JKU\n",
        "\n",
        "# UE04- SPARQL Updata and RDF Datasets\n",
        "\n",
        "Complete the **8 tasks (1 point per task)** in the `3. SPARQL Update` sheet of `SemAI.jar` first and then transfer them to this notebook.\n",
        "\n",
        "For each task include:\n",
        "- A headline including the task number\n",
        "- The task description \n",
        "- Your solution in executable form: your solutions for SemAI.jar will make use of the default grap. In this notebook you have to transform your solutions according to the workaround exemplified in V04_SPARQL_Update.ipynb\n",
        "- After executing the update request, print a serizalization of the dataset in TriG format.  \n",
        "\n",
        "**Task 9 (2 points)**  is to develop a nice visualization of RDF datasets using `visualize_graph_pyvis` from UE02 as a starting point. The requirements are as follows:\n",
        "- Each named graph must be represented as an independent graph. This means, for example, that :Jane in :JanesGraph is a different node than :Jane in :BillsGraph. There are no edges between nodes in different graphs.\n",
        "- It is not strictly necessary to draw a box around each named graph, as seen in the slides. The different named graphs should simply be visually distinguishable and not overlap.\n",
        "- If not all nodes within a named graph are connected, make sure in the visualization that the named graph still forms a coherent visual unit in some way."
      ],
      "metadata": {
        "id": "HnpijZy2D1Hd"
      }
    },
    {
      "cell_type": "markdown",
      "source": [
        "**Preperations/Imports**"
      ],
      "metadata": {
        "id": "M8M3kIXlq1K6"
      }
    },
    {
      "cell_type": "code",
      "source": [
        "# Install required packages\n",
        "!pip install -q rdflib     # comment to avoid re-install with every re-run\n",
        "\n",
        "# Imports\n",
        "import pandas as pd\n",
        "import rdflib\n",
        "from rdflib import Graph, Literal, RDF, URIRef, BNode, Namespace\n",
        "\n",
        "\n",
        "# Convenient Functions\n",
        "def sparql_select(graph,query,use_prefixes=True):\n",
        "  results = graph.query(query)          # execute the query against the graph, resulting in a rdflib.plugins.sparql.processor.SPARQLResult\n",
        "  rows = []                             # a list of dictionaries, as intermediate format to construct the pandas DataFrame\n",
        "  for result in results:                # iterate over the result set of the query, a result is an instance of rdflib.query.ResultRow\n",
        "    row = {}                            #     create a dictionary to hold a single row of the result\n",
        "    for var in results.vars:            #     iterate over the variables of the SPARQLResult to add a dictionary entry for each variable\n",
        "      if (isinstance(result[var],URIRef) and use_prefixes):\n",
        "        row[var] = result[var].n3(graph.namespace_manager)   # use namespace prefixes to shorten URIs\n",
        "      else:\n",
        "        row[var] = result[var]                  \n",
        "    rows.append(row)                    #     add the dictionary (row) to the list \n",
        "  return pd.DataFrame(rows,columns=results.vars)        \n",
        "                                        # return a pandas DataFrame constructed from the list of dictionaries, with the variables from the result set as columns   \n",
        "\n",
        "\n"
      ],
      "metadata": {
        "id": "LCx-TA5Mq0cf"
      },
      "execution_count": null,
      "outputs": []
    },
    {
      "cell_type": "markdown",
      "source": [
        "**Task 1**\n",
        "\n",
        "Sie beginnen mit einem leeren Dataset. Fügen Sie in den Default Graph Statements ein, die sagen, dass :Peter der Autor von :G1 ist, und :Mary Autor von :G2.\n"
      ],
      "metadata": {
        "id": "bm5Ju06fqI7O"
      }
    },
    {
      "cell_type": "code",
      "source": [
        "ds = rdflib.Dataset();\n",
        "\n",
        "\n",
        "ds.parse(format=\"trig\", data=\"\"\"\n",
        "@prefix : <http://example.org/> .\n",
        "\n",
        ":main {:G1 :author :Mary.\n",
        ":G2 :author :Peter.}\n",
        "\n",
        "\"\"\")\n",
        "\n",
        "print(ds.serialize(format=\"trig\"))"
      ],
      "metadata": {
        "id": "ZXB3lX-vqKVw"
      },
      "execution_count": null,
      "outputs": []
    },
    {
      "cell_type": "markdown",
      "source": [
        "**Task 2**\n",
        "\n",
        "Schreiben Sie { :Mary :knows :Peter, :John, :Mary. } in den Named Graph :G1 und { :Peter :knows :Mary. :John :knows :Mary. } in den Named Graph :G2."
      ],
      "metadata": {
        "id": "Z2siSUcGrdu7"
      }
    },
    {
      "cell_type": "code",
      "source": [
        "ds.update(\"\"\"\n",
        "INSERT DATA{\n",
        "GRAPH :G1 {\n",
        ":Mary :knows :Mary.\n",
        ":Mary :knows :John. \n",
        ":Mary :knows :Peter.\n",
        "}\n",
        "GRAPH :G2 {\n",
        ":John :knows :Mary. \n",
        ":Peter :knows :Mary.\n",
        "}\n",
        "}\n",
        "\"\"\")\n",
        "\n",
        "print(ds.serialize(format=\"trig\"))\n"
      ],
      "metadata": {
        "id": "lpQqoPgPrjVV"
      },
      "execution_count": null,
      "outputs": []
    },
    {
      "cell_type": "markdown",
      "source": [
        "**Task 3**\n",
        "\n",
        "Fragen Sie mittels INSERT-WHERE die :knows-Beziehungen aus :G2 ab und fügen deren inverse :knownBy-Beziehungen in den Default-Graph ein.\n",
        "Ihr Update Request darf nicht enthalten: [Mary, Peter, John]"
      ],
      "metadata": {
        "id": "SAY2ENRXv1jQ"
      }
    },
    {
      "cell_type": "code",
      "source": [
        "\n",
        "ds.update(\"\"\"\n",
        "INSERT {GRAPH :main{ ?sub :knownBy ?obj}\n",
        "}\n",
        "WHERE {\n",
        "GRAPH :G2 {?obj :knows ?sub}\n",
        "}\n",
        "\"\"\")\n",
        "\n",
        "\n",
        "\n",
        "print(ds.serialize(format=\"trig\"))\n",
        "\n"
      ],
      "metadata": {
        "id": "F_5WZj9Wv06I"
      },
      "execution_count": null,
      "outputs": []
    },
    {
      "cell_type": "markdown",
      "source": [
        "**Task 4**\n",
        "\n",
        "Löschen Sie mittels DELETE-WHERE alle :knownBy-Beziehungen aus dem Default-Graph.\n",
        "Ihr Update Request darf nicht enthalten: [Mary, Peter, John]"
      ],
      "metadata": {
        "id": "2I34a-xw08oq"
      }
    },
    {
      "cell_type": "code",
      "source": [
        "ds.update(\"\"\"\n",
        "DELETE WHERE { GRAPH :main {?sub :knownBy ?obj}}\n",
        "\"\"\")\n",
        "\n",
        "\n",
        "\n",
        "print(ds.serialize(format=\"trig\"))\n",
        "\n"
      ],
      "metadata": {
        "id": "8PbqJOwk0-i5"
      },
      "execution_count": null,
      "outputs": []
    },
    {
      "cell_type": "markdown",
      "source": [
        "**Task 5**\n",
        "\n",
        "Ermitteln Sie mittels INSERT-WHERE zu jedem Named-Graph dessen Anzahl an Statements mit der Property :knows und schreiben Sie diese in den Default Graph.\n",
        "Ihr Update Request darf nicht enthalten: [G1, G2]"
      ],
      "metadata": {
        "id": "Pd5H3TSm1QRf"
      }
    },
    {
      "cell_type": "code",
      "source": [
        "ds.update(\"\"\"\n",
        "INSERT {GRAPH :main {?g :knowsCount ?n}}\n",
        "WHERE{GRAPH ?g {\n",
        "SELECT (COUNT (?x) AS ?n) \n",
        "WHERE {\n",
        "?sub :knows ?x}\n",
        "GROUP BY ?g}}\n",
        "\"\"\")\n",
        "\n",
        "\n",
        "\n",
        "print(ds.serialize(format=\"trig\"))\n"
      ],
      "metadata": {
        "id": "5A_xVADZ1R9C"
      },
      "execution_count": null,
      "outputs": []
    },
    {
      "cell_type": "markdown",
      "source": [
        "**Task 6**\n",
        "\n",
        "Ermitteln Sie mittels INSERT-WHERE die Anzahl an Named Graphs und schreiben Sie sie in den Default Graph.\n",
        "Ihr Update Request darf nicht enthalten: [2]"
      ],
      "metadata": {
        "id": "pie4w0011elr"
      }
    },
    {
      "cell_type": "code",
      "source": [
        "ds.update(\"\"\"\n",
        "INSERT {GRAPH :main {:ds :graphCount ?n}}\n",
        "WHERE {\n",
        "SELECT (COUNT (DISTINCT ?g) AS ?n) \n",
        "WHERE {GRAPH ?g {\n",
        "  ?s ?p ?o\n",
        "}\n",
        "FILTER (?g != :main)}}\n",
        "\"\"\")\n",
        "\n",
        "\n",
        "print(ds.serialize(format=\"trig\"))\n"
      ],
      "metadata": {
        "id": "0JJ717Gj1hI8"
      },
      "execution_count": null,
      "outputs": []
    },
    {
      "cell_type": "markdown",
      "source": [
        "**Task 7**\n",
        "\n",
        "Verschieben Sie mittels DELETE-INSERT-WHERE alle Metadaten zu Named Graphs (also Statements die einen Named Graph als Subjekt haben) in den entsprechenden Named Graph.\n",
        "Ihr Update Request darf nicht enthalten: [G1, G2]"
      ],
      "metadata": {
        "id": "DqLaTZPT3Svb"
      }
    },
    {
      "cell_type": "code",
      "source": [
        "ds.update(\"\"\"\n",
        "DELETE {GRAPH :main{?g :author ?o.\n",
        "?g :knowsCount ?n.}}\n",
        "INSERT {GRAPH ?g{\n",
        "?g :author ?o.\n",
        "?g :knowsCount ?n.\n",
        "}}\n",
        "WHERE {GRAPH :main {?g :author ?o.\n",
        "?g :knowsCount ?n.}}\n",
        "\"\"\")\n",
        "\n",
        "\n",
        "\n",
        "print(ds.serialize(format=\"trig\"))\n",
        "\n"
      ],
      "metadata": {
        "id": "B4ysjeUi3U0I"
      },
      "execution_count": null,
      "outputs": []
    },
    {
      "cell_type": "markdown",
      "source": [
        "**Task 8**\n",
        "\n",
        "Schreiben Sie in jeden Named Graph ein Statement, dass der Autor des jeweiligen Named Graphs die :Susi kennt und aktualisieren Sie mit dem selben UpdateRequest den knowsCount.\n",
        "Ihr Update Request darf nicht enthalten: [Peter, Mary]"
      ],
      "metadata": {
        "id": "jjWsdp7r4PeS"
      }
    },
    {
      "cell_type": "code",
      "source": [
        "ds.update(\"\"\"\n",
        "DELETE {GRAPH ?g {?g :knowsCount ?old}}\n",
        "INSERT {GRAPH ?g{\n",
        "?sub :knows :Susi.\n",
        "?g :knowsCount ?n.}}\n",
        "WHERE { GRAPH ?g {\n",
        "?g :knowsCount ?old.\n",
        "?g :author ?sub.\n",
        "BIND(?old + 1 AS ?n)}}\n",
        "\"\"\")\n",
        "\n",
        "\n",
        "\n",
        "print(ds.serialize(format=\"trig\"))\n",
        "\n",
        "\n"
      ],
      "metadata": {
        "id": "-1IEHHAE4Rh-"
      },
      "execution_count": null,
      "outputs": []
    }
  ]
}